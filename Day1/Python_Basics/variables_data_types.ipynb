{
  "nbformat": 4,
  "nbformat_minor": 0,
  "metadata": {
    "colab": {
      "provenance": [],
      "authorship_tag": "ABX9TyMRf+cydSZ2mHgwXiCbrXMu",
      "include_colab_link": true
    },
    "kernelspec": {
      "name": "python3",
      "display_name": "Python 3"
    },
    "language_info": {
      "name": "python"
    }
  },
  "cells": [
    {
      "cell_type": "markdown",
      "metadata": {
        "id": "view-in-github",
        "colab_type": "text"
      },
      "source": [
        "<a href=\"https://colab.research.google.com/github/Zain1796/10-Day-AI-Engineer-Roadmap/blob/main/Day1/Python_Basics/variables_data_types.ipynb\" target=\"_parent\"><img src=\"https://colab.research.google.com/assets/colab-badge.svg\" alt=\"Open In Colab\"/></a>"
      ]
    },
    {
      "cell_type": "markdown",
      "source": [
        "1. **Variables:**  \n",
        "   A variable is a named storage location in memory that holds data (e.g., `x = 10` stores the value `10` in `x`).\n",
        "\n",
        "2. **Data Types:**  \n",
        "   Data types define the kind of data a variable can hold (e.g., integers, strings, booleans).\n",
        "\n",
        "3. **Integer (`int`):**  \n",
        "   Whole numbers without decimals (e.g., `age = 25`).\n",
        "\n",
        "4. **Float (`float`):**  \n",
        "   Numbers with decimal points (e.g., `height = 5.6`).\n",
        "\n",
        "5. **String (`str`):**  \n",
        "   A sequence of characters enclosed in quotes (e.g., `name = \"Alice\"`).\n",
        "\n",
        "6. **Boolean (`bool`):**  \n",
        "   Represents truth values, either `True` or `False` (e.g., `is_student = True`).\n",
        "\n",
        "7. **List (`list`):**  \n",
        "   An ordered, mutable collection of items (e.g., `fruits = [\"apple\", \"banana\"]`).\n",
        "\n",
        "8. **Tuple (`tuple`):**  \n",
        "   An ordered, immutable collection of items (e.g., `coordinates = (10, 20)`).\n",
        "\n",
        "9. **Dictionary (`dict`):**  \n",
        "   A collection of key-value pairs (e.g., `person = {\"name\": \"Alice\", \"age\": 25}`).\n",
        "\n",
        "10. **Set (`set`):**  \n",
        "    An unordered collection of unique items (e.g., `unique_numbers = {1, 2, 3}`).\n",
        "\n",
        "These definitions provide a quick overview of Python's fundamental building blocks for beginners!"
      ],
      "metadata": {
        "id": "myFRzbFGI1qE"
      }
    },
    {
      "cell_type": "code",
      "execution_count": 1,
      "metadata": {
        "colab": {
          "base_uri": "https://localhost:8080/"
        },
        "id": "rglfXZ_XH1nU",
        "outputId": "c45f85d2-22cb-4861-cdee-5b4d0d68bd9f"
      },
      "outputs": [
        {
          "output_type": "stream",
          "name": "stdout",
          "text": [
            "Name: Alice, Age: 25, Height: 5.6, Is Student: True\n",
            "Addition: 30, Multiplication: 50\n"
          ]
        }
      ],
      "source": [
        "# Example: Variables, Data Types, and Operators\n",
        "name = \"Alice\"\n",
        "age = 25\n",
        "height = 5.6\n",
        "is_student = True\n",
        "\n",
        "print(f\"Name: {name}, Age: {age}, Height: {height}, Is Student: {is_student}\")\n",
        "print(f\"Addition: {age + 5}, Multiplication: {age * 2}\")"
      ]
    },
    {
      "cell_type": "markdown",
      "source": [
        "Write a program to calculate the total cost of items in a shopping cart. Use variables to store item prices and quantities, and apply operators to compute the total."
      ],
      "metadata": {
        "id": "yDQPWIwfILMZ"
      }
    },
    {
      "cell_type": "code",
      "source": [
        "# Shopping Cart Program\n",
        "\n",
        "# Define item prices and quantities\n",
        "item1_price = 10.99  # Price of item 1\n",
        "item1_quantity = 3   # Quantity of item 1\n",
        "\n",
        "item2_price = 5.49   # Price of item 2\n",
        "item2_quantity = 5   # Quantity of item 2\n",
        "\n",
        "item3_price = 8.75   # Price of item 3\n",
        "item3_quantity = 2   # Quantity of item 3\n",
        "\n",
        "# Calculate the total cost for each item\n",
        "total_item1 = item1_price * item1_quantity\n",
        "total_item2 = item2_price * item2_quantity\n",
        "total_item3 = item3_price * item3_quantity\n",
        "\n",
        "# Calculate the overall total cost\n",
        "total_cost = total_item1 + total_item2 + total_item3\n",
        "\n",
        "# Display the results\n",
        "print(f\"Total cost for Item 1: ${total_item1:.2f}\")\n",
        "print(f\"Total cost for Item 2: ${total_item2:.2f}\")\n",
        "print(f\"Total cost for Item 3: ${total_item3:.2f}\")\n",
        "print(f\"Overall Total Cost: ${total_cost:.2f}\")"
      ],
      "metadata": {
        "colab": {
          "base_uri": "https://localhost:8080/"
        },
        "id": "ZxeNfEf4IGPr",
        "outputId": "b29aadb0-8fad-494c-a462-6a636f3de281"
      },
      "execution_count": 2,
      "outputs": [
        {
          "output_type": "stream",
          "name": "stdout",
          "text": [
            "Total cost for Item 1: $32.97\n",
            "Total cost for Item 2: $27.45\n",
            "Total cost for Item 3: $17.50\n",
            "Overall Total Cost: $77.92\n"
          ]
        }
      ]
    },
    {
      "cell_type": "markdown",
      "source": [
        " Task: Swap Two Variables\n",
        "Write a Python program to swap two numbers without using a third variable."
      ],
      "metadata": {
        "id": "hKo74r_2KGMk"
      }
    },
    {
      "cell_type": "code",
      "source": [
        "a = 5\n",
        "b = 10\n",
        "\n",
        "# Swapping without a third variable\n",
        "a, b = b, a\n",
        "\n",
        "print(\"a =\", a, \"b =\", b)"
      ],
      "metadata": {
        "colab": {
          "base_uri": "https://localhost:8080/"
        },
        "id": "lXW0yCVEJS3X",
        "outputId": "df131d14-8f12-4bf2-ea6b-6b4fc17878cc"
      },
      "execution_count": 3,
      "outputs": [
        {
          "output_type": "stream",
          "name": "stdout",
          "text": [
            "a = 10 b = 5\n"
          ]
        }
      ]
    },
    {
      "cell_type": "markdown",
      "source": [
        "Task: Check Data Type\n",
        "Write a program that asks the user for input and prints the data type of the input value."
      ],
      "metadata": {
        "id": "YBa7xOMjK2gU"
      }
    },
    {
      "cell_type": "code",
      "source": [
        "x = input(\"Enter something: \")  # User input is always a string\n",
        "try:\n",
        "    x = eval(x)  # Try to convert to its actual type (int, float, etc.)\n",
        "except:\n",
        "    pass  # If eval fails, it remains a string\n",
        "\n",
        "print(\"Data type:\", type(x))"
      ],
      "metadata": {
        "colab": {
          "base_uri": "https://localhost:8080/"
        },
        "id": "iRm6-O1_KWwM",
        "outputId": "1f345810-d921-4e50-b773-2c6560efe862"
      },
      "execution_count": 4,
      "outputs": [
        {
          "output_type": "stream",
          "name": "stdout",
          "text": [
            "Enter something: 3\n",
            "Data type: <class 'int'>\n"
          ]
        }
      ]
    },
    {
      "cell_type": "code",
      "source": [],
      "metadata": {
        "id": "_v_-gYIwLEhN"
      },
      "execution_count": null,
      "outputs": []
    }
  ]
}