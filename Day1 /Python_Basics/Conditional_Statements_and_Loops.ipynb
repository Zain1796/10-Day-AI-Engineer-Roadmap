{
  "nbformat": 4,
  "nbformat_minor": 0,
  "metadata": {
    "colab": {
      "provenance": [],
      "authorship_tag": "ABX9TyOvcB+WutUZtlgLOuoCogvQ",
      "include_colab_link": true
    },
    "kernelspec": {
      "name": "python3",
      "display_name": "Python 3"
    },
    "language_info": {
      "name": "python"
    }
  },
  "cells": [
    {
      "cell_type": "markdown",
      "metadata": {
        "id": "view-in-github",
        "colab_type": "text"
      },
      "source": [
        "<a href=\"https://colab.research.google.com/github/Zain1796/10-Day-AI-Engineer-Roadmap/blob/main/Day1%20/Python_Basics/Conditional_Statements_and_Loops.ipynb\" target=\"_parent\"><img src=\"https://colab.research.google.com/assets/colab-badge.svg\" alt=\"Open In Colab\"/></a>"
      ]
    },
    {
      "cell_type": "markdown",
      "source": [
        "1. Conditional Statements:\n",
        "Conditional statements allow your program to make decisions. The most common ones are if, elif (else if), and else. They execute code blocks based on whether a condition is True or False.\n",
        "\n",
        "2. Loops:\n",
        "Loops repeat a block of code multiple times. Python has two main types:\n",
        "\n",
        "for loop: Iterates over a sequence (e.g., list, range).\n",
        "while loop: Repeats as long as a condition is True."
      ],
      "metadata": {
        "id": "Jzco3oc291gL"
      }
    },
    {
      "cell_type": "markdown",
      "source": [
        "##Simple Tasks"
      ],
      "metadata": {
        "id": "yEsyYyxxWWZ5"
      }
    },
    {
      "cell_type": "markdown",
      "source": [
        "Task 1: Even or Odd Checker\n",
        "Problem: Write a program that checks if a number is even or odd."
      ],
      "metadata": {
        "id": "OP9VzKuI-HYE"
      }
    },
    {
      "cell_type": "code",
      "execution_count": 1,
      "metadata": {
        "colab": {
          "base_uri": "https://localhost:8080/"
        },
        "id": "Sc1PL3mn9ven",
        "outputId": "4052e461-899b-4877-e856-4563d1c92d34"
      },
      "outputs": [
        {
          "output_type": "stream",
          "name": "stdout",
          "text": [
            "Enter the number : 4\n",
            "4 is even\n"
          ]
        }
      ],
      "source": [
        "num = int(input(\"Enter the number : \"))\n",
        "\n",
        "if num % 2 == 0:\n",
        "    print(f\"{num} is even\")\n",
        "else:\n",
        "    print(f\"{num} is odd\")"
      ]
    },
    {
      "cell_type": "markdown",
      "source": [
        "Task 2: Multiplication Table\n",
        "Problem: Print the multiplication table for a given number (e.g., 5 × 1 to 10)."
      ],
      "metadata": {
        "id": "MbQWZNMB-a6d"
      }
    },
    {
      "cell_type": "code",
      "source": [
        "multiplication_table = 5\n",
        "\n",
        "for i in range(1,11):\n",
        "  print(f\"{multiplication_table} x {i} = {multiplication_table * i}\")"
      ],
      "metadata": {
        "colab": {
          "base_uri": "https://localhost:8080/"
        },
        "id": "7ilPdDIA-V_m",
        "outputId": "0d60207c-42ec-4262-d9e9-3e775541cf82"
      },
      "execution_count": 3,
      "outputs": [
        {
          "output_type": "stream",
          "name": "stdout",
          "text": [
            "5 x 1 = 5\n",
            "5 x 2 = 10\n",
            "5 x 3 = 15\n",
            "5 x 4 = 20\n",
            "5 x 5 = 25\n",
            "5 x 6 = 30\n",
            "5 x 7 = 35\n",
            "5 x 8 = 40\n",
            "5 x 9 = 45\n",
            "5 x 10 = 50\n"
          ]
        }
      ]
    },
    {
      "cell_type": "markdown",
      "source": [
        "Task 3: Sum of Numbers from 1 to N\n",
        "Problem: Calculate the sum of all numbers from 1 to n using a loop."
      ],
      "metadata": {
        "id": "Z1DtU7w1-_Oh"
      }
    },
    {
      "cell_type": "code",
      "source": [
        "sum_up_to = int(input(\"Enter the number : \"))\n",
        "\n",
        "sum_of_numbers = 0\n",
        "for i in range(1, sum_up_to + 1):\n",
        "  sum_of_numbers += i\n",
        "\n",
        "\n",
        "print(f\"The sum of numbers from 1 to {sum_up_to} is {sum_of_numbers}\")"
      ],
      "metadata": {
        "colab": {
          "base_uri": "https://localhost:8080/"
        },
        "id": "vrJfsXsA-xpN",
        "outputId": "a683d1c9-d6ee-498a-fd36-8235a6f4701d"
      },
      "execution_count": 5,
      "outputs": [
        {
          "output_type": "stream",
          "name": "stdout",
          "text": [
            "Enter the number : 9\n",
            "The sum of numbers from 1 to 9 is 45\n"
          ]
        }
      ]
    },
    {
      "cell_type": "markdown",
      "source": [
        "Task 4: Guess the Number Game\n",
        "Problem: Ask the user to guess a secret number until they get it right."
      ],
      "metadata": {
        "id": "EIvu0VOx_gvm"
      }
    },
    {
      "cell_type": "code",
      "source": [
        "secret = 7\n",
        "guess = 0\n",
        "while guess != secret:\n",
        "  print(\"Wrong guess\")\n",
        "  guess = int(input(\"Guess the number from 1 to 100: \"))\n",
        "\n",
        "print(\"Correct guess\")\n"
      ],
      "metadata": {
        "colab": {
          "base_uri": "https://localhost:8080/"
        },
        "id": "Q86iXps-_TaY",
        "outputId": "8b7eabd4-1923-47b2-f4fb-18a86d7c839f"
      },
      "execution_count": 3,
      "outputs": [
        {
          "output_type": "stream",
          "name": "stdout",
          "text": [
            "Wrong guess\n",
            "Guess the number from 1 to 100: 5\n",
            "Wrong guess\n",
            "Guess the number from 1 to 100: 5\n",
            "Wrong guess\n",
            "Guess the number from 1 to 100: 6\n",
            "Wrong guess\n",
            "Guess the number from 1 to 100: 7\n",
            "Correct guess\n"
          ]
        }
      ]
    },
    {
      "cell_type": "markdown",
      "source": [
        "Task 5: FizzBuzz Problem\n",
        "Problem: Print numbers from 1 to 100. For multiples of 3, print \"Fizz\"; for multiples of 5, print \"Buzz\"; for multiples of both, print \"FizzBuzz\"."
      ],
      "metadata": {
        "id": "TPYs94qZUxoO"
      }
    },
    {
      "cell_type": "code",
      "source": [
        "for i in range(1,101):\n",
        "  if i%3 == 0 and i%5 == 0:\n",
        "    print(\"fizzbuzz\")\n",
        "  elif i%5 == 0:\n",
        "    print(\"buzz\")\n",
        "  elif i%3 == 0:\n",
        "    print(\"fizz\")\n",
        "  else:\n",
        "    print(i)"
      ],
      "metadata": {
        "colab": {
          "base_uri": "https://localhost:8080/"
        },
        "id": "A40j-m6dUdT8",
        "outputId": "39b73ff6-8330-4be4-9c5e-33c0274c52da"
      },
      "execution_count": 6,
      "outputs": [
        {
          "output_type": "stream",
          "name": "stdout",
          "text": [
            "1\n",
            "2\n",
            "fizz\n",
            "4\n",
            "buzz\n",
            "fizz\n",
            "7\n",
            "8\n",
            "fizz\n",
            "buzz\n",
            "11\n",
            "fizz\n",
            "13\n",
            "14\n",
            "fizzbuzz\n",
            "16\n",
            "17\n",
            "fizz\n",
            "19\n",
            "buzz\n",
            "fizz\n",
            "22\n",
            "23\n",
            "fizz\n",
            "buzz\n",
            "26\n",
            "fizz\n",
            "28\n",
            "29\n",
            "fizzbuzz\n",
            "31\n",
            "32\n",
            "fizz\n",
            "34\n",
            "buzz\n",
            "fizz\n",
            "37\n",
            "38\n",
            "fizz\n",
            "buzz\n",
            "41\n",
            "fizz\n",
            "43\n",
            "44\n",
            "fizzbuzz\n",
            "46\n",
            "47\n",
            "fizz\n",
            "49\n",
            "buzz\n",
            "fizz\n",
            "52\n",
            "53\n",
            "fizz\n",
            "buzz\n",
            "56\n",
            "fizz\n",
            "58\n",
            "59\n",
            "fizzbuzz\n",
            "61\n",
            "62\n",
            "fizz\n",
            "64\n",
            "buzz\n",
            "fizz\n",
            "67\n",
            "68\n",
            "fizz\n",
            "buzz\n",
            "71\n",
            "fizz\n",
            "73\n",
            "74\n",
            "fizzbuzz\n",
            "76\n",
            "77\n",
            "fizz\n",
            "79\n",
            "buzz\n",
            "fizz\n",
            "82\n",
            "83\n",
            "fizz\n",
            "buzz\n",
            "86\n",
            "fizz\n",
            "88\n",
            "89\n",
            "fizzbuzz\n",
            "91\n",
            "92\n",
            "fizz\n",
            "94\n",
            "buzz\n",
            "fizz\n",
            "97\n",
            "98\n",
            "fizz\n",
            "buzz\n"
          ]
        }
      ]
    },
    {
      "cell_type": "markdown",
      "source": [
        "##intermediate tasks"
      ],
      "metadata": {
        "id": "Dymmh72wWSwz"
      }
    },
    {
      "cell_type": "markdown",
      "source": [
        "Task 1: Prime Number Checker\n",
        "Problem: Write a program to check if a number is prime.\n",
        "Concepts: for loops, if conditions, break statements."
      ],
      "metadata": {
        "id": "uvpJhMfuV6fo"
      }
    },
    {
      "cell_type": "code",
      "source": [
        "num = int(input(\"Enter the number : \"))\n",
        "\n",
        "if num > 1:\n",
        "  for i in range(2,int(num*0.5)+1):\n",
        "    if num % i == 0:\n",
        "      print(f\"{num} is not a prime number\")\n",
        "      break\n",
        "    else:\n",
        "      print(f\"{num} is a prime number\")\n",
        "      break\n",
        "else:\n",
        "  print(f\"{num} is not a prime number\")\n"
      ],
      "metadata": {
        "colab": {
          "base_uri": "https://localhost:8080/"
        },
        "id": "oOJG-4AIVdIk",
        "outputId": "61bc73d4-fb3f-4799-aa64-4642c1a866ba"
      },
      "execution_count": 8,
      "outputs": [
        {
          "output_type": "stream",
          "name": "stdout",
          "text": [
            "Enter the number : 5\n",
            "5 is a prime number\n"
          ]
        }
      ]
    },
    {
      "cell_type": "markdown",
      "source": [
        "Task 2: Palindrome Checker\n",
        "Problem: Check if a string is a palindrome (reads the same forwards and backwards).\n",
        "Concepts: for loops, string slicing, if-else."
      ],
      "metadata": {
        "id": "LpQ2_zCNYG_E"
      }
    },
    {
      "cell_type": "code",
      "source": [
        "s = input(\"Enter the string : \")\n",
        "\n",
        "if s == s[::-1]:\n",
        "  print(f\"{s} is a palindrome\")\n",
        "else:\n",
        "  print(f\"{s} is not a palindrome\")"
      ],
      "metadata": {
        "colab": {
          "base_uri": "https://localhost:8080/"
        },
        "id": "D0pUXrKDXuFE",
        "outputId": "57b16154-1e9a-4f1b-adb4-4245733e7efc"
      },
      "execution_count": 10,
      "outputs": [
        {
          "output_type": "stream",
          "name": "stdout",
          "text": [
            "Enter the string : sdfds\n",
            "sdfds is a palindrome\n"
          ]
        }
      ]
    },
    {
      "cell_type": "markdown",
      "source": [
        "Task 3: Password Strength Checker\n",
        "Problem: Evaluate password strength based on:\n",
        "\n",
        "At least 8 characters\n",
        "Contains uppercase, lowercase, numbers, and symbols.\n",
        "Concepts: for loops, if-elif-else, string methods."
      ],
      "metadata": {
        "id": "w1Nj2wCfZP6t"
      }
    },
    {
      "cell_type": "code",
      "source": [
        "password =  input(\"Enter the password : \")\n",
        "has_upper = has_lower = has_digit = has_symbol = False\n",
        "for char in password:\n",
        "  if char.isupper():\n",
        "    has_upper = True\n",
        "  elif char.islower():\n",
        "    has_lower = True\n",
        "  elif char.isdigit():\n",
        "    has_digit = True\n",
        "  else:\n",
        "    has_symbol = True\n",
        "\n",
        "if len(password) > 8 and all([has_upper,has_lower,has_digit,has_symbol]):\n",
        "    print(f\"{password} is a strong password\")\n",
        "else:\n",
        "    print(f\"{password} is a weak password\")\n"
      ],
      "metadata": {
        "colab": {
          "base_uri": "https://localhost:8080/"
        },
        "id": "4mDW-0t7Y1Sa",
        "outputId": "2251db9f-9aa2-44b7-c552-84f111bf5d1e"
      },
      "execution_count": 16,
      "outputs": [
        {
          "output_type": "stream",
          "name": "stdout",
          "text": [
            "Enter the password : Pakistan@1234\n",
            "Pakistan@1234 is a strong password\n"
          ]
        }
      ]
    },
    {
      "cell_type": "markdown",
      "source": [
        "Task 4: Number Guessing Game with Hints\n",
        "Problem: Create a game where the user guesses a number between 1-100. Provide hints like \"Too high\" or \"Too low\" until they guess correctly. Limit attempts to 5."
      ],
      "metadata": {
        "id": "KyvzpFPHjNFx"
      }
    },
    {
      "cell_type": "code",
      "source": [
        "import random\n",
        "secret_num = random.randint(1,100)\n",
        "attempt = 5\n",
        "while attempt > 0:\n",
        "  guess = int(input(\"Guess the number from 1 to 100: \"))\n",
        "  if guess == secret_num:\n",
        "    print(\"Correct guess\")\n",
        "    break\n",
        "  elif guess > secret_num:\n",
        "    print(\"Too high\")\n",
        "  else:\n",
        "    print(\"Too low\")\n",
        "  attempt -= 1\n",
        "else:\n",
        "  print(f\"Out of attempts game over secret number is {secret_num}\")"
      ],
      "metadata": {
        "colab": {
          "base_uri": "https://localhost:8080/"
        },
        "id": "ZegGHgCSiluG",
        "outputId": "8e8675eb-5773-44eb-a392-23e6f5165b61"
      },
      "execution_count": 20,
      "outputs": [
        {
          "output_type": "stream",
          "name": "stdout",
          "text": [
            "Guess the number from 1 to 100: 45\n",
            "Too high\n",
            "Guess the number from 1 to 100: 32\n",
            "Too high\n",
            "Guess the number from 1 to 100: 23\n",
            "Too low\n",
            "Guess the number from 1 to 100: 26\n",
            "Too low\n",
            "Guess the number from 1 to 100: 39\n",
            "Too high\n",
            "Out of attempts game over secret number is 28\n"
          ]
        }
      ]
    },
    {
      "cell_type": "markdown",
      "source": [
        "Task 5: Pattern Printing (Pyramid/Diamond)\n",
        "Problem: Print a pyramid or diamond pattern using nested loops."
      ],
      "metadata": {
        "id": "O6lom9E_mL5z"
      }
    },
    {
      "cell_type": "code",
      "source": [
        "n = 5\n",
        "for i in range(n):\n",
        "  print(\" \" * (n - i - 1) + \"*\" * (2 * i + 1))"
      ],
      "metadata": {
        "colab": {
          "base_uri": "https://localhost:8080/"
        },
        "id": "lnSN0iEKkY1J",
        "outputId": "49322c6d-8e93-4924-f5d6-1329a5554370"
      },
      "execution_count": 21,
      "outputs": [
        {
          "output_type": "stream",
          "name": "stdout",
          "text": [
            "    *\n",
            "   ***\n",
            "  *****\n",
            " *******\n",
            "*********\n"
          ]
        }
      ]
    },
    {
      "cell_type": "code",
      "source": [],
      "metadata": {
        "id": "NG3DXtaamtx_"
      },
      "execution_count": null,
      "outputs": []
    }
  ]
}